{
 "cells": [
  {
   "cell_type": "code",
   "execution_count": 38,
   "metadata": {},
   "outputs": [],
   "source": [
    "#copy html source code then name, then three quotes at top and bottom\n",
    "html_doc = \"\"\"\n",
    "<html><head><title>The Office</title></head>\n",
    "<body>\n",
    "<p class=\"title\"><b>The Office</b></p>\n",
    "<p class=\"story\">In my office, there are four officers,\n",
    "<a href=\"http://example.com/YW\" class=\"member\">YW</a>,\n",
    "<a href=\"http://example.com/JK\" class=\"member\">JK</a>,\n",
    "<a href=\"http://example.com/YJ\" class=\"member\">YJ</a> and\n",
    "<a href=\"http://example.com/KS\" class=\"member\">KS</a>\n",
    ".</p>\n",
    "<p class=\"story\">...</p>\n",
    "\"\"\""
   ]
  },
  {
   "cell_type": "code",
   "execution_count": 39,
   "metadata": {},
   "outputs": [],
   "source": [
    "from bs4 import BeautifulSoup"
   ]
  },
  {
   "cell_type": "code",
   "execution_count": 40,
   "metadata": {},
   "outputs": [],
   "source": [
    "soup = BeautifulSoup(html_doc, 'html.parser')"
   ]
  },
  {
   "cell_type": "code",
   "execution_count": 41,
   "metadata": {},
   "outputs": [
    {
     "name": "stdout",
     "output_type": "stream",
     "text": [
      "<html>\n",
      " <head>\n",
      "  <title>\n",
      "   The Office\n",
      "  </title>\n",
      " </head>\n",
      " <body>\n",
      "  <p class=\"title\">\n",
      "   <b>\n",
      "    The Office\n",
      "   </b>\n",
      "  </p>\n",
      "  <p class=\"story\">\n",
      "   In my office, there are four officers,\n",
      "   <a class=\"member\" href=\"http://example.com/YW\">\n",
      "    YW\n",
      "   </a>\n",
      "   ,\n",
      "   <a class=\"member\" href=\"http://example.com/JK\">\n",
      "    JK\n",
      "   </a>\n",
      "   ,\n",
      "   <a class=\"member\" href=\"http://example.com/YJ\">\n",
      "    YJ\n",
      "   </a>\n",
      "   and\n",
      "   <a class=\"member\" href=\"http://example.com/KS\">\n",
      "    KS\n",
      "   </a>\n",
      "   .\n",
      "  </p>\n",
      "  <p class=\"story\">\n",
      "   ...\n",
      "  </p>\n",
      " </body>\n",
      "</html>\n"
     ]
    }
   ],
   "source": [
    "print(soup.prettify())"
   ]
  },
  {
   "cell_type": "code",
   "execution_count": 42,
   "metadata": {},
   "outputs": [
    {
     "data": {
      "text/plain": [
       "<title>The Office</title>"
      ]
     },
     "execution_count": 42,
     "metadata": {},
     "output_type": "execute_result"
    }
   ],
   "source": [
    "soup.title\n",
    "#can find the title tag"
   ]
  },
  {
   "cell_type": "code",
   "execution_count": 43,
   "metadata": {},
   "outputs": [
    {
     "data": {
      "text/plain": [
       "'The Office'"
      ]
     },
     "execution_count": 43,
     "metadata": {},
     "output_type": "execute_result"
    }
   ],
   "source": [
    "soup.title.text\n",
    "#call the text within the title tag"
   ]
  },
  {
   "cell_type": "code",
   "execution_count": 44,
   "metadata": {},
   "outputs": [
    {
     "data": {
      "text/plain": [
       "<a class=\"member\" href=\"http://example.com/YW\">YW</a>"
      ]
     },
     "execution_count": 44,
     "metadata": {},
     "output_type": "execute_result"
    }
   ],
   "source": [
    "soup.a\n",
    "#finding the tag a or in this case names of directors i.e. A class people"
   ]
  },
  {
   "cell_type": "code",
   "execution_count": 45,
   "metadata": {},
   "outputs": [
    {
     "data": {
      "text/plain": [
       "[<a class=\"member\" href=\"http://example.com/YW\">YW</a>,\n",
       " <a class=\"member\" href=\"http://example.com/JK\">JK</a>,\n",
       " <a class=\"member\" href=\"http://example.com/YJ\">YJ</a>,\n",
       " <a class=\"member\" href=\"http://example.com/KS\">KS</a>]"
      ]
     },
     "execution_count": 45,
     "metadata": {},
     "output_type": "execute_result"
    }
   ],
   "source": [
    "soup.find_all('a')\n",
    "#if we want to find all a class people then we need to use the find all function"
   ]
  },
  {
   "cell_type": "code",
   "execution_count": 48,
   "metadata": {},
   "outputs": [
    {
     "name": "stdout",
     "output_type": "stream",
     "text": [
      "YW\n",
      "JK\n",
      "YJ\n",
      "KS\n"
     ]
    }
   ],
   "source": [
    "member = soup.find_all('a')\n",
    "for m in member:\n",
    "    print(m.text)"
   ]
  },
  {
   "cell_type": "code",
   "execution_count": null,
   "metadata": {},
   "outputs": [],
   "source": []
  }
 ],
 "metadata": {
  "kernelspec": {
   "display_name": "Python 3",
   "language": "python",
   "name": "python3"
  },
  "language_info": {
   "codemirror_mode": {
    "name": "ipython",
    "version": 3
   },
   "file_extension": ".py",
   "mimetype": "text/x-python",
   "name": "python",
   "nbconvert_exporter": "python",
   "pygments_lexer": "ipython3",
   "version": "3.7.1"
  }
 },
 "nbformat": 4,
 "nbformat_minor": 2
}
